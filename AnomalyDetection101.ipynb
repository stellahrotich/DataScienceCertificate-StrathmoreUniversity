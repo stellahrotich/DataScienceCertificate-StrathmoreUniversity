{
  "nbformat": 4,
  "nbformat_minor": 0,
  "metadata": {
    "colab": {
      "name": "AnomalyDetection101.ipynb",
      "version": "0.3.2",
      "provenance": [],
      "collapsed_sections": [],
      "include_colab_link": true
    },
    "kernelspec": {
      "name": "python3",
      "display_name": "Python 3"
    }
  },
  "cells": [
    {
      "cell_type": "markdown",
      "metadata": {
        "id": "view-in-github",
        "colab_type": "text"
      },
      "source": [
        "<a href=\"https://colab.research.google.com/github/stellahrotich/MLProjects101/blob/master/AnomalyDetection101.ipynb\" target=\"_parent\"><img src=\"https://colab.research.google.com/assets/colab-badge.svg\" alt=\"Open In Colab\"/></a>"
      ]
    },
    {
      "cell_type": "markdown",
      "metadata": {
        "id": "BTztaxFHWZYw",
        "colab_type": "text"
      },
      "source": [
        "#Anomaly Detection "
      ]
    },
    {
      "cell_type": "markdown",
      "metadata": {
        "id": "dmLBdU3hUZu3",
        "colab_type": "text"
      },
      "source": [
        "Anomaly Detection is the technique of identifying rare events or observations which can raise suspicions by being statistically different from the rest of the observations."
      ]
    },
    {
      "cell_type": "markdown",
      "metadata": {
        "id": "L5FiIU8FW9_h",
        "colab_type": "text"
      },
      "source": [
        "Reference: https://www.analyticsvidhya.com/blog/2019/02/outlier-detection-python-pyod/"
      ]
    },
    {
      "cell_type": "code",
      "metadata": {
        "id": "h5wHo-yJLR8z",
        "colab_type": "code",
        "colab": {}
      },
      "source": [
        "\n",
        "import numpy as np \n",
        "from scipy import stats \n",
        "import matplotlib.pyplot as plt \n",
        "import matplotlib.font_manager \n",
        "\n"
      ],
      "execution_count": 0,
      "outputs": []
    },
    {
      "cell_type": "code",
      "metadata": {
        "id": "Ht4hMOlsT5O4",
        "colab_type": "code",
        "colab": {
          "base_uri": "https://localhost:8080/",
          "height": 441
        },
        "outputId": "c4761ffc-3508-4345-bcf9-22c726164067"
      },
      "source": [
        "pip install -U pyod"
      ],
      "execution_count": 4,
      "outputs": [
        {
          "output_type": "stream",
          "text": [
            "Collecting pyod\n",
            "\u001b[?25l  Downloading https://files.pythonhosted.org/packages/43/f1/d7454100a91df739af2c619863ac05559ce594affd1a0e659a4dd377e251/pyod-0.7.3.tar.gz (84kB)\n",
            "\u001b[K     |████████████████████████████████| 92kB 3.5MB/s \n",
            "\u001b[?25hRequirement already satisfied, skipping upgrade: matplotlib in /usr/local/lib/python3.6/dist-packages (from pyod) (3.0.3)\n",
            "Requirement already satisfied, skipping upgrade: numpy>=1.13 in /usr/local/lib/python3.6/dist-packages (from pyod) (1.16.4)\n",
            "Requirement already satisfied, skipping upgrade: numba>=0.35 in /usr/local/lib/python3.6/dist-packages (from pyod) (0.40.1)\n",
            "Requirement already satisfied, skipping upgrade: scipy>=0.19.1 in /usr/local/lib/python3.6/dist-packages (from pyod) (1.3.0)\n",
            "Requirement already satisfied, skipping upgrade: scikit_learn>=0.19.1 in /usr/local/lib/python3.6/dist-packages (from pyod) (0.21.2)\n",
            "Requirement already satisfied, skipping upgrade: kiwisolver>=1.0.1 in /usr/local/lib/python3.6/dist-packages (from matplotlib->pyod) (1.1.0)\n",
            "Requirement already satisfied, skipping upgrade: python-dateutil>=2.1 in /usr/local/lib/python3.6/dist-packages (from matplotlib->pyod) (2.5.3)\n",
            "Requirement already satisfied, skipping upgrade: pyparsing!=2.0.4,!=2.1.2,!=2.1.6,>=2.0.1 in /usr/local/lib/python3.6/dist-packages (from matplotlib->pyod) (2.4.0)\n",
            "Requirement already satisfied, skipping upgrade: cycler>=0.10 in /usr/local/lib/python3.6/dist-packages (from matplotlib->pyod) (0.10.0)\n",
            "Requirement already satisfied, skipping upgrade: llvmlite>=0.25.0dev0 in /usr/local/lib/python3.6/dist-packages (from numba>=0.35->pyod) (0.29.0)\n",
            "Requirement already satisfied, skipping upgrade: joblib>=0.11 in /usr/local/lib/python3.6/dist-packages (from scikit_learn>=0.19.1->pyod) (0.13.2)\n",
            "Requirement already satisfied, skipping upgrade: setuptools in /usr/local/lib/python3.6/dist-packages (from kiwisolver>=1.0.1->matplotlib->pyod) (41.0.1)\n",
            "Requirement already satisfied, skipping upgrade: six>=1.5 in /usr/local/lib/python3.6/dist-packages (from python-dateutil>=2.1->matplotlib->pyod) (1.12.0)\n",
            "Building wheels for collected packages: pyod\n",
            "  Building wheel for pyod (setup.py) ... \u001b[?25l\u001b[?25hdone\n",
            "  Stored in directory: /root/.cache/pip/wheels/1e/50/43/3a064ff929d3095f5625ac1ddd44674a6fd75b82b3ace60bdf\n",
            "Successfully built pyod\n",
            "Installing collected packages: pyod\n",
            "Successfully installed pyod-0.7.3\n"
          ],
          "name": "stdout"
        }
      ]
    },
    {
      "cell_type": "code",
      "metadata": {
        "id": "HPC2pMjET_k-",
        "colab_type": "code",
        "colab": {
          "base_uri": "https://localhost:8080/",
          "height": 110
        },
        "outputId": "7d9c2316-0efd-441b-8734-c36eac66ad1d"
      },
      "source": [
        " \n",
        "from pyod.models.knn import KNN  \n",
        "from pyod.utils.data import generate_data, get_outliers_inliers \n"
      ],
      "execution_count": 5,
      "outputs": [
        {
          "output_type": "stream",
          "text": [
            "/usr/local/lib/python3.6/dist-packages/sklearn/externals/six.py:31: DeprecationWarning: The module is deprecated in version 0.21 and will be removed in version 0.23 since we've dropped support for Python 2.7. Please rely on the official version of six (https://pypi.org/project/six/).\n",
            "  \"(https://pypi.org/project/six/).\", DeprecationWarning)\n",
            "/usr/local/lib/python3.6/dist-packages/sklearn/externals/joblib/__init__.py:15: DeprecationWarning: sklearn.externals.joblib is deprecated in 0.21 and will be removed in 0.23. Please import this functionality directly from joblib, which can be installed with: pip install joblib. If this warning is raised when loading pickled models, you may need to re-serialize those models with scikit-learn 0.21+.\n",
            "  warnings.warn(msg, category=DeprecationWarning)\n"
          ],
          "name": "stderr"
        }
      ]
    },
    {
      "cell_type": "code",
      "metadata": {
        "id": "zpSACmoJWn5d",
        "colab_type": "code",
        "colab": {}
      },
      "source": [
        "\n",
        "# generating a random dataset with two features \n",
        "X_train, y_train = generate_data(n_train = 300, train_only = True, \n",
        "                                                   n_features = 2) \n",
        "  \n",
        "# Setting the percentage of outliers \n",
        "outlier_fraction = 0.1\n",
        "  \n",
        "# Storing the outliers and inliners in different numpy arrays \n",
        "X_outliers, X_inliers = get_outliers_inliers(X_train, y_train) \n",
        "n_inliers = len(X_inliers) \n",
        "n_outliers = len(X_outliers) \n",
        "  \n",
        "# Seperating the two features \n",
        "f1 = X_train[:, [0]].reshape(-1, 1) \n",
        "f2 = X_train[:, [1]].reshape(-1, 1) \n"
      ],
      "execution_count": 0,
      "outputs": []
    },
    {
      "cell_type": "code",
      "metadata": {
        "id": "MD9JhljFWpb0",
        "colab_type": "code",
        "colab": {
          "base_uri": "https://localhost:8080/",
          "height": 301
        },
        "outputId": "132b3f46-ee0b-46ed-92d2-4b2e044de676"
      },
      "source": [
        "\n",
        "# Visualising the dataset \n",
        "# create a meshgrid \n",
        "xx, yy = np.meshgrid(np.linspace(-10, 10, 200), \n",
        "                     np.linspace(-10, 10, 200)) \n",
        "  \n",
        "# scatter plot \n",
        "plt.scatter(f1, f2) \n",
        "plt.xlabel('Feature 1') \n",
        "plt.ylabel('Feature 2') \n"
      ],
      "execution_count": 7,
      "outputs": [
        {
          "output_type": "execute_result",
          "data": {
            "text/plain": [
              "Text(0, 0.5, 'Feature 2')"
            ]
          },
          "metadata": {
            "tags": []
          },
          "execution_count": 7
        },
        {
          "output_type": "display_data",
          "data": {
            "image/png": "[encoded data removed]",
            "text/plain": [
              "<Figure size 432x288 with 1 Axes>"
            ]
          },
          "metadata": {
            "tags": []
          }
        }
      ]
    },
    {
      "cell_type": "code",
      "metadata": {
        "id": "sQ5afMKVWw2l",
        "colab_type": "code",
        "colab": {
          "base_uri": "https://localhost:8080/",
          "height": 72
        },
        "outputId": "63bcf6fa-198d-4619-de6a-e1d46836ed5b"
      },
      "source": [
        "\n",
        "# Training the classifier \n",
        "clf = KNN(contamination = outlier_fraction) \n",
        "clf.fit(X_train, y_train) \n",
        "  \n",
        "# You can print this to see all the prediciton scores \n",
        "scores_pred = clf.decision_function(X_train)*-1\n",
        "  \n",
        "y_pred = clf.predict(X_train) \n",
        "n_errors = (y_pred != y_train).sum() \n",
        "# Counting the number of errors \n",
        "  \n",
        "print('The number of prediciton errors are ' + str(n_errors)) \n"
      ],
      "execution_count": 8,
      "outputs": [
        {
          "output_type": "stream",
          "text": [
            "The number of prediciton errors are 0\n"
          ],
          "name": "stdout"
        },
        {
          "output_type": "stream",
          "text": [
            "/usr/local/lib/python3.6/dist-packages/pyod/models/base.py:344: UserWarning: y should not be presented in unsupervised learning.\n",
            "  \"y should not be presented in unsupervised learning.\")\n"
          ],
          "name": "stderr"
        }
      ]
    },
    {
      "cell_type": "code",
      "metadata": {
        "id": "y021pilNWyoC",
        "colab_type": "code",
        "colab": {
          "base_uri": "https://localhost:8080/",
          "height": 281
        },
        "outputId": "3afa3ce3-8a4f-4d45-c530-df01da09a6a7"
      },
      "source": [
        "\n",
        "# threshold value to consider a \n",
        "# datapoint inlier or outlier \n",
        "threshold = stats.scoreatpercentile(scores_pred, 100 * outlier_fraction) \n",
        "  \n",
        "# decision function calculates the raw  \n",
        "# anomaly score for every point \n",
        "Z = clf.decision_function(np.c_[xx.ravel(), yy.ravel()]) * -1\n",
        "Z = Z.reshape(xx.shape) \n",
        "  \n",
        "# fill blue colormap from minimum anomaly \n",
        "# score to threshold value \n",
        "subplot = plt.subplot(1, 2, 1) \n",
        "subplot.contourf(xx, yy, Z, levels = np.linspace(Z.min(),  \n",
        "                  threshold, 10), cmap = plt.cm.Blues_r) \n",
        "  \n",
        "# draw red contour line where anomaly  \n",
        "# score is equal to threshold \n",
        "a = subplot.contour(xx, yy, Z, levels =[threshold], \n",
        "                     linewidths = 2, colors ='red') \n",
        "  \n",
        "# fill orange contour lines where range of anomaly \n",
        "# score is from threshold to maximum anomaly score \n",
        "subplot.contourf(xx, yy, Z, levels =[threshold, Z.max()], colors ='orange') \n",
        "  \n",
        "# scatter plot of inliers with white dots \n",
        "b = subplot.scatter(X_train[:-n_outliers, 0], X_train[:-n_outliers, 1], \n",
        "                                    c ='white', s = 20, edgecolor ='k')  \n",
        "  \n",
        "# scatter plot of outliers with black dots \n",
        "c = subplot.scatter(X_train[-n_outliers:, 0], X_train[-n_outliers:, 1],  \n",
        "                                    c ='black', s = 20, edgecolor ='k') \n",
        "subplot.axis('tight') \n",
        "  \n",
        "subplot.legend( \n",
        "    [a.collections[0], b, c], \n",
        "    ['learned decision function', 'true inliers', 'true outliers'], \n",
        "    prop = matplotlib.font_manager.FontProperties(size = 10), \n",
        "    loc ='lower right') \n",
        "  \n",
        "subplot.set_title('K-Nearest Neighbours') \n",
        "subplot.set_xlim((-10, 10)) \n",
        "subplot.set_ylim((-10, 10)) \n",
        "plt.show()  \n"
      ],
      "execution_count": 9,
      "outputs": [
        {
          "output_type": "display_data",
          "data": {
            "image/png": "[encoded data removed]",
            "text/plain": [
              "<Figure size 432x288 with 1 Axes>"
            ]
          },
          "metadata": {
            "tags": []
          }
        }
      ]
    }
  ]
}